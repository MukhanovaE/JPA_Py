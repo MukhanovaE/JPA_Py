{
 "cells": [
  {
   "cell_type": "code",
   "execution_count": 1,
   "metadata": {},
   "outputs": [
    {
     "name": "stdout",
     "output_type": "stream",
     "text": [
      "Using matplotlib backend: Qt5Agg\n"
     ]
    }
   ],
   "source": [
    "import numpy as np\n",
    "import matplotlib.pyplot as plt\n",
    "\n",
    "\n",
    "import scipy.io\n",
    "%matplotlib "
   ]
  },
  {
   "cell_type": "code",
   "execution_count": 2,
   "metadata": {},
   "outputs": [],
   "source": [
    "def db2mag(db): return db #20 * np.log10(db)"
   ]
  },
  {
   "cell_type": "code",
   "execution_count": 3,
   "metadata": {},
   "outputs": [],
   "source": [
    "def BasicFit(adress_file,offs,ang,ph):\n",
    "    mat = scipy.io.loadmat(adress_file)\n",
    "    \n",
    "    f, mag, pha, Gain, SignalGeneratorPumpP = mat['f'],  mat['mag'],  mat['pha'],  mat['Gain'], mat['SignalGeneratorPumpP']\n",
    "    \n",
    "    "
   ]
  },
  {
   "cell_type": "code",
   "execution_count": 31,
   "metadata": {},
   "outputs": [
    {
     "name": "stderr",
     "output_type": "stream",
     "text": [
      "C:\\Users\\mukha\\Anaconda3\\lib\\site-packages\\scipy\\io\\matlab\\mio.py:224: MatReadWarning: Duplicate variable name \"None\" in stream - replacing previous with new\n",
      "Consider mio5.varmats_from_mat to split file into single variable files\n",
      "  matfile_dict = MR.get_variables(variable_names)\n"
     ]
    }
   ],
   "source": [
    "adress_file = r\"C:\\Users\\mukha\\Downloads\\Gain_12.084202104232356GHz.mat\" \n",
    "offs = -0.532e6\n",
    "ang = 0.233\n",
    "ph = 0\n",
    "\n",
    "\n",
    "mat = scipy.io.loadmat(adress_file)\n",
    "mat.keys()\n",
    "\n",
    "f, mag, pha, Gain, pows_exper = np.array(mat['f'][0]),  np.array(mat['mag']),  np.array(mat['pha']),  np.array(mat['Gain']), np.array(mat['SignalGeneratorPumpP'][0])\n",
    "\n",
    "#     f: (4001,)\n",
    "#   mag: (4001, 102)\n",
    "#   pha: (4001, 102)\n",
    "#  Gain: (4001, 35)\n",
    "#   pow: (102,)\n",
    "\n",
    "f_mean = f[int(len(f)/2+0.5)]      # f_mean: (1,)\n",
    "f_mean_2pi = 2*np.pi*f_mean        # f_mean_2pi: (1,)\n",
    "f_norm = f - f_mean                # f_norm: (4001,)\n",
    "Gain_redused = Gain[:,1:]          # Gain_redused: (4001, 34)\n",
    "po = pows_exper[1:]                # po: (101,)\n",
    "\n",
    "mag_m1colomn = mag-mag[:,0][np.newaxis].T  #  mag_m1colomn: (4001, 102)\n",
    "mag_db = db2mag(mag_m1colomn)              #     mag_db: (4001, 102)\n",
    "mag_del1colomn = mag_db[:,1:]              # mag_del1colomn: (4001, 101)\n",
    "\n",
    "mag_init = db2mag(mag[:,1]-mag[:,0])[np.newaxis].T #  mag_init: (4001, 1)\n",
    "pha_init = (pha[:,1]-pha[:,0])[np.newaxis].T       #  pha_init: (4001, 1)\n",
    "pha_m1colomn = pha-pha[:,0][np.newaxis].T          # pha_m1colomn: (4001, 102)\n",
    "pha_del1colomn = pha[:,1:]                         # pha_del1colomn: (4001, 101)\n",
    "\n",
    "\n",
    "f_range = (np.linspace(f_norm[0], f_norm[-1], len(f_norm))+offs)*2*np.pi\n",
    "\n",
    "X = f_norm+offs # X: (4001,)\n",
    "\n",
    "# for Y: \n",
    "\n",
    "E1 = np.exp(-1j*ang*np.pi) # ()\n",
    "pha_init_T = pha_init.T    # (1, 4001)\n",
    "mag_init_T = mag_init.T    # (1, 4001)\n",
    "E2 = np.exp(1j*pha_init_T) # (1, 4001)\n",
    "S1 = np.multiply(mag_init_T,E2)-1 # (1, 4001) - поэлементное умножение\n",
    "Y_abs = np.abs(1+np.multiply(E1,S1)) # (1, 4001) \n",
    "Y_angle = np.angle(1+np.multiply(E1,S1)) # (1, 4001) \n",
    "\n",
    "Y = Y_abs\n",
    "\n",
    "Xs = mag_init*np.cos(pha_init)\n",
    "Ys = mag_init*np.sin(pha_init)\n",
    "\n",
    "ab = np.sqrt(Xs**2+Ys**2)\n",
    "  \n",
    "fig, ax = plt.subplots(figsize=(7,7)) \n",
    "\n",
    "# ax.plot(X, Y_abs.T, 'r.', color=\"red\")\n",
    "# ax.plot(Xs, Ys, 'r.', color=\"red\")\n",
    "\n",
    "ax.plot(f, Gain[:,5], 'r.', color=\"red\")\n",
    "\n",
    "# ax.plot(f_norm, mag,'.-', markersize = 2,  color=\"orange\")\n",
    "# ax.plot(f_norm, pha_init*(-1),'.-', markersize = 2,  color=\"blue\")\n",
    "\n",
    "# ax.plot(f_norm, 20*np.log10(ab),'.-', markersize = 2,  color=\"lightgreen\")\n",
    "plt.show()\n",
    "\n",
    "# Y2.shape"
   ]
  },
  {
   "cell_type": "code",
   "execution_count": 272,
   "metadata": {},
   "outputs": [],
   "source": [
    "F1 = pha_init\n",
    "F2 = mag_init\n",
    "\n",
    "Y = np.sqrt(F1**2+F2**2)\n",
    "\n",
    "fig, ax = plt.subplots(figsize=(7,7)) \n",
    "ax.plot(f, Y,'.-', markersize = 2,  color=\"green\")\n",
    "plt.show()\n"
   ]
  },
  {
   "cell_type": "code",
   "execution_count": 105,
   "metadata": {},
   "outputs": [
    {
     "name": "stdout",
     "output_type": "stream",
     "text": [
      "[1 4 7] \n",
      " [[0 1 2]\n",
      " [0 1 2]\n",
      " [0 1 2]]\n"
     ]
    }
   ],
   "source": [
    "A = np.array([[1,2,3], [4, 5, 6], [7, 8, 9]])\n",
    "B = A-A[:,0][np.newaxis].T\n",
    "print(A[:,0], '\\n', B)"
   ]
  },
  {
   "cell_type": "code",
   "execution_count": 16,
   "metadata": {},
   "outputs": [
    {
     "data": {
      "text/plain": [
       "array([1, 2, 3, 4, 5, 6, 7, 8, 9, 0, 0, 0, 0, 0, 0, 0, 0, 0, 1, 2, 3, 4,\n",
       "       5, 6, 7, 8, 9, 0, 0, 0, 0, 0, 0, 0, 0, 0, 1, 2, 3, 4, 5, 6, 7, 8,\n",
       "       9, 0, 0, 0, 0, 0, 0, 0, 0, 0])"
      ]
     },
     "execution_count": 16,
     "metadata": {},
     "output_type": "execute_result"
    }
   ],
   "source": [
    "A = np.array([[1,2,3], [4, 5, 6], [7, 8, 9]])\n",
    "B = np.array([[0,0,0], [0, 0, 0], [0, 0, 0]])\n",
    "D = np.array([2.3, 5.6, 8.5])\n",
    "С = dict(zip(, A))\n",
    "C"
   ]
  },
  {
   "cell_type": "code",
   "execution_count": 20,
   "metadata": {},
   "outputs": [
    {
     "data": {
      "text/plain": [
       "5.0"
      ]
     },
     "execution_count": 20,
     "metadata": {},
     "output_type": "execute_result"
    }
   ],
   "source": [
    "y = np.abs(3+4*1j)\n",
    "y"
   ]
  }
 ],
 "metadata": {
  "kernelspec": {
   "display_name": "Python 3",
   "language": "python",
   "name": "python3"
  },
  "language_info": {
   "codemirror_mode": {
    "name": "ipython",
    "version": 3
   },
   "file_extension": ".py",
   "mimetype": "text/x-python",
   "name": "python",
   "nbconvert_exporter": "python",
   "pygments_lexer": "ipython3",
   "version": "3.8.5"
  }
 },
 "nbformat": 4,
 "nbformat_minor": 4
}
